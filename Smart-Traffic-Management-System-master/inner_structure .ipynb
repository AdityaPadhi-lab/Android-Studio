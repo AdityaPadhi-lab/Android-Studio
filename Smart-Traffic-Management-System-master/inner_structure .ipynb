{
 "cells": [
  {
   "cell_type": "code",
   "execution_count": 83,
   "metadata": {},
   "outputs": [
    {
     "name": "stdout",
     "output_type": "stream",
     "text": [
      "C:\\Users\\saikat\n"
     ]
    }
   ],
   "source": [
    "import os  \n",
    "import pandas as pd \n",
    "import numpy as np \n",
    "import csv \n",
    "print (os.getcwd())\n"
   ]
  },
  {
   "cell_type": "code",
   "execution_count": 71,
   "metadata": {},
   "outputs": [],
   "source": [
    "excel=pd.read_excel(r'C:\\Users\\saikat\\Desktop\\results_9.xlsx')\n",
    "results=excel.to_numpy()"
   ]
  },
  {
   "cell_type": "code",
   "execution_count": 72,
   "metadata": {},
   "outputs": [
    {
     "data": {
      "text/plain": [
       "array([['{', nan, nan, ..., nan, nan, nan],\n",
       "       [nan, 'frame_id:1', nan, ..., nan, nan, nan],\n",
       "       [nan,\n",
       "        'filename:\"C:\\\\Users\\\\saikat\\\\Desktop\\\\darknet_opencv\\\\data\\\\images\\\\1.jpg\"',\n",
       "        nan, ..., nan, nan, nan],\n",
       "       ...,\n",
       "       [nan, ']', nan, ..., nan, nan, nan],\n",
       "       ['}', nan, nan, ..., nan, nan, nan],\n",
       "       [']', nan, nan, ..., nan, nan, nan]], dtype=object)"
      ]
     },
     "execution_count": 72,
     "metadata": {},
     "output_type": "execute_result"
    }
   ],
   "source": [
    "results"
   ]
  },
  {
   "cell_type": "code",
   "execution_count": 73,
   "metadata": {},
   "outputs": [],
   "source": [
    "#the following are the class ids of the vehicles normally seen on the roads\n",
    "#car:2,motorbike :3,bus:5,truck:7\n",
    "count_dict={}\n",
    "#dictionary to count the number of vehicles \n",
    "num_frames=0\n",
    "for  i  in  range (results.shape[0]):\n",
    "    \n",
    "    if (results[i,1]=='objects:'):\n",
    "        num_frames=num_frames+1\n",
    "        string =results[i-2,1]\n",
    "        frame_id =int (string[len(string)-1])\n",
    "        j=i+1\n",
    "        count_veh=0\n",
    "        while (results[j,1]!=']' ):\n",
    "            str=results[j,1]\n",
    "            class_id = int (str[len(str)-1])\n",
    "            #print(class_id)\n",
    "            if (class_id ==2 or class_id==3 or class_id==5 or class_id ==7):\n",
    "                count_veh=count_veh+1\n",
    "            j=j+1\n",
    "        count_dict[frame_id]=count_veh \n",
    "            \n",
    "    "
   ]
  },
  {
   "cell_type": "code",
   "execution_count": 74,
   "metadata": {},
   "outputs": [
    {
     "data": {
      "text/plain": [
       "{1: 13, 2: 24, 3: 27, 4: 20, 5: 46, 6: 45, 7: 22, 8: 29, 9: 14}"
      ]
     },
     "execution_count": 74,
     "metadata": {},
     "output_type": "execute_result"
    }
   ],
   "source": [
    "count_dict"
   ]
  },
  {
   "cell_type": "code",
   "execution_count": 80,
   "metadata": {},
   "outputs": [
    {
     "name": "stdout",
     "output_type": "stream",
     "text": [
      "[[2. 2. 2.]\n",
      " [2. 2. 2.]\n",
      " [2. 2. 2.]]\n",
      "1 1\n"
     ]
    }
   ],
   "source": [
    "#let the threshold of conjestion be >=46\n",
    "#frame id corresponding to grid \n",
    "#frame_id   grid \n",
    "#1 00\n",
    "#2 01\n",
    "#3 02\n",
    "#4 10\n",
    "#5 11\n",
    "#6 12\n",
    "#7 20\n",
    "#8 21\n",
    "#9 22\n",
    "red_light_duration=np.ones((3,3))\n",
    "red_light_duration=red_light_duration *2\n",
    "\n",
    "#print (red_light_duration )\n",
    "#taking the threshold of congestion to be 46\n",
    "thres=46\n",
    "c=1\n",
    "for i in range (3):\n",
    "    for  j in range (3):\n",
    "            traffic=count_dict[c]\n",
    "            c=c+1\n",
    "            if (traffic>=thres):\n",
    "                x=i\n",
    "                y=j\n",
    "                break\n",
    "    \n",
    "print(x,y)   \n",
    "red_light_duration [x,y+1]=4\n",
    "red_light_duration [x,y-1]=4\n",
    "red_light_duration [x+1,y]=4\n",
    "red_light_duration [x-1,y]=4\n",
    "main_dict={}\n",
    "c=1\n",
    "for  i in range (3):\n",
    "    for j in range (3):\n",
    "        \n",
    "        main_dict[c]=red_light_duration [i,j]\n",
    "        c=c+1\n"
   ]
  },
  {
   "cell_type": "code",
   "execution_count": 81,
   "metadata": {},
   "outputs": [
    {
     "data": {
      "text/plain": [
       "array([[2., 4., 2.],\n",
       "       [4., 2., 4.],\n",
       "       [2., 4., 2.]])"
      ]
     },
     "execution_count": 81,
     "metadata": {},
     "output_type": "execute_result"
    }
   ],
   "source": [
    "#this is the modified red light duration of every junction \n",
    "red_light_duration "
   ]
  },
  {
   "cell_type": "code",
   "execution_count": 82,
   "metadata": {},
   "outputs": [
    {
     "data": {
      "text/plain": [
       "{1: 2.0, 2: 4.0, 3: 2.0, 4: 4.0, 5: 2.0, 6: 4.0, 7: 2.0, 8: 4.0, 9: 2.0}"
      ]
     },
     "execution_count": 82,
     "metadata": {},
     "output_type": "execute_result"
    }
   ],
   "source": [
    "main_dict"
   ]
  },
  {
   "cell_type": "code",
   "execution_count": 88,
   "metadata": {},
   "outputs": [
    {
     "name": "stdout",
     "output_type": "stream",
     "text": [
      "1 2.0\n",
      "2 4.0\n",
      "3 2.0\n",
      "4 4.0\n",
      "5 2.0\n",
      "6 4.0\n",
      "7 2.0\n",
      "8 4.0\n",
      "9 2.0\n"
     ]
    }
   ],
   "source": [
    "#dump into a csv file \n",
    "w = csv.writer(open(\"output.csv\", \"w\"))\n",
    "for key, val in main_dict.items():\n",
    "    print (key,val)\n",
    "    w.writerow([key, val])"
   ]
  },
  {
   "cell_type": "code",
   "execution_count": null,
   "metadata": {},
   "outputs": [],
   "source": []
  }
 ],
 "metadata": {
  "kernelspec": {
   "display_name": "Python 3",
   "language": "python",
   "name": "python3"
  },
  "language_info": {
   "codemirror_mode": {
    "name": "ipython",
    "version": 3
   },
   "file_extension": ".py",
   "mimetype": "text/x-python",
   "name": "python",
   "nbconvert_exporter": "python",
   "pygments_lexer": "ipython3",
   "version": "3.7.4"
  }
 },
 "nbformat": 4,
 "nbformat_minor": 2
}
